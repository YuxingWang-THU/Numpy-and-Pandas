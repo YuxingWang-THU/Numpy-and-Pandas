{
 "cells": [
  {
   "cell_type": "code",
   "execution_count": 11,
   "metadata": {},
   "outputs": [],
   "source": [
    "#这是一个numpy和pandas的复习记录\n",
    "#axis=0 是按跨行的方向\n",
    "#axis=1 是按跨列的方向"
   ]
  },
  {
   "cell_type": "code",
   "execution_count": 1,
   "metadata": {},
   "outputs": [
    {
     "name": "stdout",
     "output_type": "stream",
     "text": [
      "2\n",
      "(2, 3)\n",
      "6\n"
     ]
    }
   ],
   "source": [
    "#1.矩阵的元素\n",
    "import numpy as np\n",
    "arr = np.array([[1,2,3],[4,5,6]])\n",
    "#矩阵的维度\n",
    "print(arr.ndim)\n",
    "#矩阵的形状，返回（行数，列数）\n",
    "print(arr.shape)\n",
    "#矩阵内部元素个数\n",
    "print(arr.size)"
   ]
  },
  {
   "cell_type": "code",
   "execution_count": 22,
   "metadata": {},
   "outputs": [
    {
     "name": "stdout",
     "output_type": "stream",
     "text": [
      "[1. 2. 3.]\n",
      "float32\n"
     ]
    }
   ],
   "source": [
    "#指定数据类型创建数组\n",
    "arr2 = np.array([1,2,3],dtype=np.float32)\n",
    "print(arr2)\n",
    "print(arr2.dtype)"
   ]
  },
  {
   "cell_type": "code",
   "execution_count": 23,
   "metadata": {},
   "outputs": [
    {
     "name": "stdout",
     "output_type": "stream",
     "text": [
      "[[0. 0. 0. 0.]\n",
      " [0. 0. 0. 0.]\n",
      " [0. 0. 0. 0.]]\n",
      "[[1. 1. 1. 1.]\n",
      " [1. 1. 1. 1.]\n",
      " [1. 1. 1. 1.]]\n"
     ]
    }
   ],
   "source": [
    "#创建全0或者全1的数组\n",
    "arr3 = np.zeros((3,4))\n",
    "arr4 = np.ones((3,4))\n",
    "print(arr3)\n",
    "print(arr4)"
   ]
  },
  {
   "cell_type": "code",
   "execution_count": 24,
   "metadata": {},
   "outputs": [
    {
     "name": "stdout",
     "output_type": "stream",
     "text": [
      "[[1. 1. 1. 1.]\n",
      " [1. 1. 1. 1.]\n",
      " [1. 1. 1. 1.]]\n"
     ]
    }
   ],
   "source": [
    "#创建全空的数组\n",
    "arr5 = np.empty((3,4))\n",
    "print(arr5)"
   ]
  },
  {
   "cell_type": "code",
   "execution_count": 48,
   "metadata": {},
   "outputs": [
    {
     "name": "stdout",
     "output_type": "stream",
     "text": [
      "[10 11 12 13 14 15 16 17 18 19]\n"
     ]
    }
   ],
   "source": [
    "#连续创建数组(实际创建的是从开始到结束-1的固定步长的数组)\n",
    "#（起始，结束，步长）\n",
    "arr6 = np.arange(10,20,1)\n",
    "print(arr6)"
   ]
  },
  {
   "cell_type": "code",
   "execution_count": 49,
   "metadata": {},
   "outputs": [
    {
     "name": "stdout",
     "output_type": "stream",
     "text": [
      "[[10 11 12 13 14]\n",
      " [15 16 17 18 19]]\n",
      "[12. 17.]\n"
     ]
    }
   ],
   "source": [
    "#改变数组的形状\n",
    "print(arr6.reshape(2,5))\n",
    "print(arr6.reshape(2,5).mean(axis=1))"
   ]
  },
  {
   "cell_type": "code",
   "execution_count": 34,
   "metadata": {},
   "outputs": [
    {
     "name": "stdout",
     "output_type": "stream",
     "text": [
      "[ 1.  2.  3.  4.  5.  6.  7.  8.  9. 10.]\n"
     ]
    }
   ],
   "source": [
    "#创造线段型的数据(起始，结束，平均分的点数),类似于平均采样\n",
    "arr7 = np.linspace(1,10,10)\n",
    "print(arr7)"
   ]
  },
  {
   "cell_type": "code",
   "execution_count": 38,
   "metadata": {},
   "outputs": [
    {
     "name": "stdout",
     "output_type": "stream",
     "text": [
      "[ 1.   2.8  4.6  6.4  8.2 10. ] [ 0.   1.8  5.2 10.2 16.8 25. ]\n"
     ]
    }
   ],
   "source": [
    "#nummpy基础运算\n",
    "a = np.arange(6\n",
    "b = np.linspace(1,5,6)\n",
    "print(a + b,a * b)"
   ]
  },
  {
   "cell_type": "code",
   "execution_count": 39,
   "metadata": {},
   "outputs": [
    {
     "name": "stdout",
     "output_type": "stream",
     "text": [
      "[False False False False  True  True]\n"
     ]
    }
   ],
   "source": [
    "#也可以使用如下的语句对元素进行判断\n",
    "print(a>3)"
   ]
  },
  {
   "cell_type": "code",
   "execution_count": 42,
   "metadata": {},
   "outputs": [
    {
     "name": "stdout",
     "output_type": "stream",
     "text": [
      "[[1 2 3]\n",
      " [4 5 6]]\n",
      "[[1 3 5]\n",
      " [4 6 8]]\n"
     ]
    }
   ],
   "source": [
    "#行列不匹配时的加法\n",
    "d = np.arange(3)\n",
    "c = np.array([[1,2,3],[4,5,6]])\n",
    "print(c)\n",
    "print(c + d)"
   ]
  },
  {
   "cell_type": "code",
   "execution_count": 44,
   "metadata": {},
   "outputs": [
    {
     "name": "stdout",
     "output_type": "stream",
     "text": [
      "[[ 7]\n",
      " [15]]\n",
      "[[ 7]\n",
      " [15]]\n"
     ]
    }
   ],
   "source": [
    "#矩阵乘法 dot\n",
    "matrix1 = np.array([[1,2],[3,4]])\n",
    "matrix2 = np.array([[1],[3]])\n",
    "print(np.dot(matrix1, matrix2))\n",
    "print(matrix1.dot(matrix2))"
   ]
  },
  {
   "cell_type": "code",
   "execution_count": 59,
   "metadata": {},
   "outputs": [
    {
     "name": "stdout",
     "output_type": "stream",
     "text": [
      "[[0.96164647 0.94176442 0.90261903]\n",
      " [0.95487013 0.82170021 0.26623195]]\n"
     ]
    }
   ],
   "source": [
    "#初始化特定大小的随机数（0-1）的矩阵\n",
    "matrix3 = np.random.random((2,3))\n",
    "print(matrix3)"
   ]
  },
  {
   "cell_type": "code",
   "execution_count": 62,
   "metadata": {},
   "outputs": [
    {
     "name": "stdout",
     "output_type": "stream",
     "text": [
      "[[1 0 3]\n",
      " [4 0 6]]\n",
      "14\n",
      "14\n",
      "2.0\n",
      "[ 1  1  4  8  8 14]\n",
      "[[-1  3]\n",
      " [-4  6]]\n"
     ]
    }
   ],
   "source": [
    "matrix4 = np.array([[1,0,3],[4,0,6]])\n",
    "print(matrix4) \n",
    "print(np.sum(matrix4))\n",
    "print(matrix4.sum())\n",
    "print(np.median(matrix4))\n",
    "#累和运算 \n",
    "print(np.cumsum(matrix4))\n",
    "#累差运算,2*3的矩阵就会变为2*2 \n",
    "print(np.diff(matrix4))"
   ]
  },
  {
   "cell_type": "code",
   "execution_count": 63,
   "metadata": {},
   "outputs": [
    {
     "name": "stdout",
     "output_type": "stream",
     "text": [
      "(array([0, 0, 1, 1], dtype=int64), array([0, 2, 0, 2], dtype=int64))\n",
      "[0 0 1 1]\n",
      "[0 2 0 2]\n"
     ]
    }
   ],
   "source": [
    "#nonzero()函数，这个函数将所有非零元素的行与列坐标分割开，重构成两个分别关于行和列的矩阵\n",
    "print(np.nonzero(matrix4))\n",
    "a1,a2 = np.nonzero(matrix4)\n",
    "print(a1)#非0行\n",
    "print(a2)#非0列"
   ]
  },
  {
   "cell_type": "code",
   "execution_count": 3,
   "metadata": {},
   "outputs": [
    {
     "name": "stdout",
     "output_type": "stream",
     "text": [
      "[[1 2 3 5]\n",
      " [5 8 9 7]]\n",
      "[[6 6 6 6]\n",
      " [6 7 7 7]]\n"
     ]
    }
   ],
   "source": [
    "#clip函数，（目标矩阵，小于该数字的替换成该数，小于该数字的替换成该数）\n",
    "matrix7 = np.array([[1,2,3,5],[5,8,9,7]])\n",
    "print(matrix7)\n",
    "print(np.clip(matrix7, 6, 7))"
   ]
  },
  {
   "cell_type": "code",
   "execution_count": 10,
   "metadata": {},
   "outputs": [
    {
     "name": "stdout",
     "output_type": "stream",
     "text": [
      "[1 2 3 5]\n",
      "1\n",
      "1\n",
      "[1 2 3 5]\n",
      "[5 8 9 7]\n",
      "[1 5]\n",
      "[2 8]\n",
      "[3 9]\n",
      "[5 7]\n",
      "<numpy.flatiter object at 0x000002277631DB20>\n",
      "1\n",
      "2\n",
      "3\n",
      "5\n",
      "5\n",
      "8\n",
      "9\n",
      "7\n",
      "1\n",
      "2\n",
      "3\n",
      "5\n",
      "5\n",
      "8\n",
      "9\n",
      "7\n"
     ]
    }
   ],
   "source": [
    "#矩阵的索引\n",
    "matrix8 = np.array([[1,2,3,5],[5,8,9,7]])\n",
    "print(matrix8[0,:])\n",
    "print(matrix8[0][0])\n",
    "print(matrix8[0,0])\n",
    "\n",
    "#打印出矩阵的每一行\n",
    "for _ in matrix8:\n",
    "    print(_)\n",
    "#打印出矩阵的每一列\n",
    "for _ in matrix8.T:\n",
    "    print(_) \n",
    "#打印出矩阵的每一个元素\n",
    "#flatten方法将矩阵变为一维的\n",
    "# .flat是一个迭代器属性\n",
    "print(matrix8.flat)\n",
    "for _ in matrix8.flatten():\n",
    "    print(_) \n",
    "for _ in matrix8.flat:\n",
    "    print(_) "
   ]
  },
  {
   "cell_type": "code",
   "execution_count": 23,
   "metadata": {},
   "outputs": [
    {
     "name": "stdout",
     "output_type": "stream",
     "text": [
      "[[1 1 1]\n",
      " [2 2 2]]\n",
      "[[1 1 1 2 2 2]]\n",
      "[[1 1 1]\n",
      " [2 2 2]]\n",
      "[[1 1 1 2 2 2]]\n"
     ]
    }
   ],
   "source": [
    "#矩阵的合并\n",
    "A = np.array([[1,1,1]])\n",
    "B = np.array([[2,2,2]])\n",
    "C = np.array([[3,3,3]])\n",
    "#上下合并,vstack以元组的形式传参\n",
    "print(np.vstack((A,B)))\n",
    "#左右合并,vstack以元组的形式传参\n",
    "print(np.hstack((A,B)))\n",
    "#多个数组合并np.concatenate()\n",
    "print(np.concatenate((A,B),axis=0))\n",
    "print(np.concatenate((A,B),axis=1))"
   ]
  },
  {
   "cell_type": "code",
   "execution_count": 32,
   "metadata": {},
   "outputs": [
    {
     "name": "stdout",
     "output_type": "stream",
     "text": [
      "[[ 0  1  2  3]\n",
      " [ 4  5  6  7]\n",
      " [ 8  9 10 11]]\n",
      "[array([[0, 1],\n",
      "       [4, 5],\n",
      "       [8, 9]]), array([[ 2,  3],\n",
      "       [ 6,  7],\n",
      "       [10, 11]])]\n",
      "[array([[0, 1],\n",
      "       [4, 5],\n",
      "       [8, 9]]), array([[ 2],\n",
      "       [ 6],\n",
      "       [10]]), array([[ 3],\n",
      "       [ 7],\n",
      "       [11]])]\n"
     ]
    }
   ],
   "source": [
    "#矩阵的分割\n",
    "matrix9 = np.arange(12).reshape((3,4))\n",
    "print(matrix9)\n",
    "#纵向分割\n",
    "print(np.split(matrix9, 2,axis=1))\n",
    "##不等量的分割\n",
    "print(np.array_split(matrix9, 3,axis=1))"
   ]
  },
  {
   "cell_type": "code",
   "execution_count": null,
   "metadata": {},
   "outputs": [],
   "source": []
  }
 ],
 "metadata": {
  "kernelspec": {
   "display_name": "Python 3",
   "language": "python",
   "name": "python3"
  },
  "language_info": {
   "codemirror_mode": {
    "name": "ipython",
    "version": 3
   },
   "file_extension": ".py",
   "mimetype": "text/x-python",
   "name": "python",
   "nbconvert_exporter": "python",
   "pygments_lexer": "ipython3",
   "version": "3.6.4"
  }
 },
 "nbformat": 4,
 "nbformat_minor": 2
}
